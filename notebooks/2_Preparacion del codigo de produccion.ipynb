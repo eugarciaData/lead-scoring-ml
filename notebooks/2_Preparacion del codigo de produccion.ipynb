{
 "cells": [
  {
   "cell_type": "markdown",
   "id": "797ae63f",
   "metadata": {},
   "source": [
    "# IMPORTAR LAS LIBRERIAS"
   ]
  },
  {
   "cell_type": "code",
   "execution_count": 1,
   "id": "ffe7be80",
   "metadata": {},
   "outputs": [],
   "source": [
    "import numpy as np\n",
    "import pandas as pd\n",
    "import cloudpickle\n",
    "\n",
    "#Automcompletar rápido\n",
    "%config IPCompleter.greedy=True\n",
    "\n",
    "from sklearn.preprocessing import OneHotEncoder\n",
    "from sklearn.preprocessing import MinMaxScaler\n",
    "\n",
    "from sklearn.linear_model import LogisticRegression\n",
    "\n",
    "from sklearn.pipeline import Pipeline\n",
    "from sklearn.preprocessing import FunctionTransformer\n",
    "from sklearn.compose import make_column_transformer\n",
    "from sklearn.pipeline import make_pipeline"
   ]
  },
  {
   "cell_type": "markdown",
   "id": "5e12241c",
   "metadata": {},
   "source": [
    "# CARGAR LOS DATOS"
   ]
  },
  {
   "cell_type": "markdown",
   "id": "807b37d3",
   "metadata": {},
   "source": [
    "## Ruta del proyecto"
   ]
  },
  {
   "cell_type": "code",
   "execution_count": 2,
   "id": "5a6711f7",
   "metadata": {},
   "outputs": [],
   "source": [
    "ruta_proyecto = 'C:/Users/user/Desktop/Master Data Science/EstructuraDirectorio/03_MACHINE_LEARNING/08_CASOS/01_LEADSCORING'"
   ]
  },
  {
   "cell_type": "markdown",
   "id": "89fe9a43",
   "metadata": {},
   "source": [
    "## Nombre del fichero de datos"
   ]
  },
  {
   "cell_type": "code",
   "execution_count": 3,
   "id": "25b345d7",
   "metadata": {},
   "outputs": [],
   "source": [
    "nombre_fichero_datos = 'Leads.csv'"
   ]
  },
  {
   "cell_type": "markdown",
   "id": "765f82e1",
   "metadata": {},
   "source": [
    "## Cargar los datos"
   ]
  },
  {
   "cell_type": "code",
   "execution_count": 4,
   "id": "480494ff",
   "metadata": {},
   "outputs": [],
   "source": [
    "ruta_completa = ruta_proyecto + '/02_Datos/01_Originales/' + nombre_fichero_datos\n",
    "\n",
    "df =  pd.read_csv(ruta_completa,index_col='id', sep=';')"
   ]
  },
  {
   "cell_type": "markdown",
   "id": "454738c9",
   "metadata": {},
   "source": [
    "## Seleccionar solo las variables finales"
   ]
  },
  {
   "cell_type": "markdown",
   "id": "ba546b91",
   "metadata": {},
   "source": [
    "### Cargar la lista de variables finales"
   ]
  },
  {
   "cell_type": "code",
   "execution_count": 5,
   "id": "26066884",
   "metadata": {},
   "outputs": [
    {
     "data": {
      "text/plain": [
       "['ambito_Marketing Management',\n",
       " 'ambito_Select',\n",
       " 'descarga_lm_No',\n",
       " 'ocupacion_Unemployed',\n",
       " 'ocupacion_Working Professional',\n",
       " 'origen_Lead Add Form',\n",
       " 'paginas_vistas_visita_mms',\n",
       " 'score_actividad_mms',\n",
       " 'score_perfil_mms',\n",
       " 'tiempo_en_site_total_mms',\n",
       " 'ult_actividad_Chat Conversation',\n",
       " 'ult_actividad_Converted to Lead',\n",
       " 'ult_actividad_Page Visited on Website',\n",
       " 'ult_actividad_SMS Sent',\n",
       " 'visitas_total_mms']"
      ]
     },
     "execution_count": 5,
     "metadata": {},
     "output_type": "execute_result"
    }
   ],
   "source": [
    "nombre_variables_finales = ruta_proyecto + '/05_Resultados/' + 'variables_finales.pickle'\n",
    "\n",
    "pd.read_pickle(nombre_variables_finales).sort_index().index.to_list()"
   ]
  },
  {
   "cell_type": "markdown",
   "id": "9c127d9a",
   "metadata": {},
   "source": [
    "### Apuntar (manualmente) la lista de variables finales sin extensiones"
   ]
  },
  {
   "cell_type": "code",
   "execution_count": 6,
   "id": "da477021",
   "metadata": {},
   "outputs": [],
   "source": [
    "variables_finales = ['ambito',\n",
    "                     'descarga_lm',\n",
    "                     'ocupacion',\n",
    "                     'origen',\n",
    "                     'paginas_vistas_visita',\n",
    "                     'score_actividad',\n",
    "                     'score_perfil',\n",
    "                     'tiempo_en_site_total',\n",
    "                     'ult_actividad',\n",
    "                     'visitas_total'\n",
    "                    ]"
   ]
  },
  {
   "cell_type": "markdown",
   "id": "f81f09bf",
   "metadata": {},
   "source": [
    "### Crear la matriz de variables procesos (excel)"
   ]
  },
  {
   "cell_type": "markdown",
   "id": "735beb13",
   "metadata": {},
   "source": [
    "En mi caso, creé una matriz en Excel."
   ]
  },
  {
   "cell_type": "markdown",
   "id": "ee3f31a6",
   "metadata": {},
   "source": [
    "### Actualizar las importaciones"
   ]
  },
  {
   "cell_type": "markdown",
   "id": "80c12eea",
   "metadata": {},
   "source": [
    "Ir arriba a la celda de importacion de paquetes y actualizarlos con los que finalmente vamos a usar."
   ]
  },
  {
   "cell_type": "markdown",
   "id": "fe5a706b",
   "metadata": {},
   "source": [
    "# ESTRUCTURA DE LOS DATASETS"
   ]
  },
  {
   "cell_type": "markdown",
   "id": "a9cd9497",
   "metadata": {},
   "source": [
    "## Eliminar registros"
   ]
  },
  {
   "cell_type": "markdown",
   "id": "4af7dbab",
   "metadata": {},
   "source": [
    "### Por duplicados"
   ]
  },
  {
   "cell_type": "code",
   "execution_count": 7,
   "id": "361fd5f0",
   "metadata": {},
   "outputs": [],
   "source": [
    "df.drop_duplicates(inplace = True)"
   ]
  },
  {
   "cell_type": "markdown",
   "id": "f5c95cad",
   "metadata": {},
   "source": [
    "### Por EDA"
   ]
  },
  {
   "cell_type": "code",
   "execution_count": 8,
   "id": "b53c6908",
   "metadata": {},
   "outputs": [],
   "source": [
    "df = df.loc[(df.no_llamar != 'OTROS') & (df.no_enviar_email != 'Yes') & (df.ult_actividad != 'Email Bounced')] "
   ]
  },
  {
   "cell_type": "markdown",
   "id": "9f90d327",
   "metadata": {},
   "source": [
    "### Para x"
   ]
  },
  {
   "cell_type": "markdown",
   "id": "024faf5e",
   "metadata": {},
   "source": [
    "Quedarse solo con las de la lista."
   ]
  },
  {
   "cell_type": "code",
   "execution_count": 9,
   "id": "eb115fbf",
   "metadata": {},
   "outputs": [],
   "source": [
    "x = df[variables_finales].copy()"
   ]
  },
  {
   "cell_type": "code",
   "execution_count": 10,
   "id": "c20d2ded-c667-4c2d-877e-02f17dc56c49",
   "metadata": {},
   "outputs": [
    {
     "data": {
      "text/plain": [
       "(6840, 10)"
      ]
     },
     "execution_count": 10,
     "metadata": {},
     "output_type": "execute_result"
    }
   ],
   "source": [
    "x.shape"
   ]
  },
  {
   "cell_type": "markdown",
   "id": "e746ec8d",
   "metadata": {},
   "source": [
    "### Para y"
   ]
  },
  {
   "cell_type": "markdown",
   "id": "84fd6267",
   "metadata": {},
   "source": [
    "Especificar la target."
   ]
  },
  {
   "cell_type": "code",
   "execution_count": 11,
   "id": "e8cef3f3",
   "metadata": {},
   "outputs": [],
   "source": [
    "target = 'compra'"
   ]
  },
  {
   "cell_type": "markdown",
   "id": "a11b8afe",
   "metadata": {},
   "source": [
    "Crear el y."
   ]
  },
  {
   "cell_type": "code",
   "execution_count": 12,
   "id": "d926d93f",
   "metadata": {},
   "outputs": [],
   "source": [
    "y = df[target].copy()"
   ]
  },
  {
   "cell_type": "markdown",
   "id": "99bb2255",
   "metadata": {},
   "source": [
    "# CREAR EL PIPELINE"
   ]
  },
  {
   "cell_type": "markdown",
   "id": "6d6e8fca",
   "metadata": {},
   "source": [
    "## Instanciar calidad de datos"
   ]
  },
  {
   "cell_type": "markdown",
   "id": "06178080",
   "metadata": {},
   "source": [
    "### Crear la función"
   ]
  },
  {
   "cell_type": "code",
   "execution_count": 13,
   "id": "d5f9f22c-5777-4a14-b2e4-33ccc7edd3da",
   "metadata": {},
   "outputs": [
    {
     "name": "stdout",
     "output_type": "stream",
     "text": [
      "<class 'pandas.core.frame.DataFrame'>\n",
      "Index: 6840 entries, 660737 to 579533\n",
      "Data columns (total 10 columns):\n",
      " #   Column                 Non-Null Count  Dtype  \n",
      "---  ------                 --------------  -----  \n",
      " 0   ambito                 6231 non-null   object \n",
      " 1   descarga_lm            6840 non-null   object \n",
      " 2   ocupacion              5148 non-null   object \n",
      " 3   origen                 6840 non-null   object \n",
      " 4   paginas_vistas_visita  6730 non-null   float64\n",
      " 5   score_actividad        3872 non-null   float64\n",
      " 6   score_perfil           3872 non-null   float64\n",
      " 7   tiempo_en_site_total   6840 non-null   int64  \n",
      " 8   ult_actividad          6750 non-null   object \n",
      " 9   visitas_total          6730 non-null   float64\n",
      "dtypes: float64(4), int64(1), object(5)\n",
      "memory usage: 587.8+ KB\n"
     ]
    }
   ],
   "source": [
    "x.info()"
   ]
  },
  {
   "cell_type": "code",
   "execution_count": 14,
   "id": "98177b43",
   "metadata": {},
   "outputs": [],
   "source": [
    "def calidad_datos(df):\n",
    "    #tipos\n",
    "    temp = df.astype({'visitas_total': 'Int64'})\n",
    "    #imputar moda\n",
    "    def imputar_moda(variable):\n",
    "        return(variable.fillna(variable.mode()[0]))\n",
    "\n",
    "    var_imputar_moda = ['ocupacion','ambito']\n",
    "\n",
    "    temp[var_imputar_moda] = temp[var_imputar_moda].apply(imputar_moda)\n",
    "    \n",
    "    #imputar valor\n",
    "    var_imputar_valor = ['origen',\n",
    "                         'ult_actividad',\n",
    "                         'descarga_lm']\n",
    "\n",
    "    valor = 'DESCONOCIDO'\n",
    "\n",
    "    temp[var_imputar_valor] = temp[var_imputar_valor].fillna(valor)\n",
    "\n",
    "    #imputar mediana\n",
    "    var_imputar_mediana = ['paginas_vistas_visita',\n",
    "                           'score_actividad',\n",
    "                           'score_perfil',\n",
    "                           'tiempo_en_site_total',\n",
    "                           'visitas_total']\n",
    "\n",
    "    def imputar_mediana(variable):\n",
    "        if pd.api.types.is_integer_dtype(variable):\n",
    "            return(variable.fillna(int(variable.median())))\n",
    "        else:\n",
    "            return(variable.fillna(variable.median()))\n",
    "\n",
    "    temp[var_imputar_mediana] = temp[var_imputar_mediana].apply(imputar_mediana)\n",
    "\n",
    "    def agrupar_cat_raras(variable, criterio = 0.02):\n",
    "        #Calcula las frecuencias\n",
    "        frecuencias = variable.value_counts(normalize=True)\n",
    "        #Identifica las que están por debajo del criterio\n",
    "        temp = [cada for cada in frecuencias.loc[frecuencias < criterio].index.values]\n",
    "        #Las recodifica en 'OTROS'\n",
    "        temp2 = np.where(variable.isin(temp),'OTROS',variable)\n",
    "        #Devuelve el resultado\n",
    "        return(temp2)\n",
    "\n",
    "    var_agrupar_cat_rars = ['ambito',\n",
    "                           'descarga_lm',\n",
    "                           'ocupacion',\n",
    "                           'origen',\n",
    "                           'ult_actividad']\n",
    "    for variable in var_agrupar_cat_rars:\n",
    "        temp[variable] = agrupar_cat_raras(temp[variable],criterio = 0.02)\n",
    "\n",
    "    #Winsorización manual\n",
    "    temp['visitas_total'] = temp['visitas_total'].clip(0, 50)\n",
    "    \n",
    "    return(temp)"
   ]
  },
  {
   "cell_type": "code",
   "execution_count": 15,
   "id": "b63d3875-9e12-4bcb-84cb-767234211234",
   "metadata": {},
   "outputs": [
    {
     "data": {
      "text/html": [
       "<div>\n",
       "<style scoped>\n",
       "    .dataframe tbody tr th:only-of-type {\n",
       "        vertical-align: middle;\n",
       "    }\n",
       "\n",
       "    .dataframe tbody tr th {\n",
       "        vertical-align: top;\n",
       "    }\n",
       "\n",
       "    .dataframe thead th {\n",
       "        text-align: right;\n",
       "    }\n",
       "</style>\n",
       "<table border=\"1\" class=\"dataframe\">\n",
       "  <thead>\n",
       "    <tr style=\"text-align: right;\">\n",
       "      <th></th>\n",
       "      <th>ambito</th>\n",
       "      <th>descarga_lm</th>\n",
       "      <th>ocupacion</th>\n",
       "      <th>origen</th>\n",
       "      <th>paginas_vistas_visita</th>\n",
       "      <th>score_actividad</th>\n",
       "      <th>score_perfil</th>\n",
       "      <th>tiempo_en_site_total</th>\n",
       "      <th>ult_actividad</th>\n",
       "      <th>visitas_total</th>\n",
       "    </tr>\n",
       "    <tr>\n",
       "      <th>id</th>\n",
       "      <th></th>\n",
       "      <th></th>\n",
       "      <th></th>\n",
       "      <th></th>\n",
       "      <th></th>\n",
       "      <th></th>\n",
       "      <th></th>\n",
       "      <th></th>\n",
       "      <th></th>\n",
       "      <th></th>\n",
       "    </tr>\n",
       "  </thead>\n",
       "  <tbody>\n",
       "    <tr>\n",
       "      <th>660737</th>\n",
       "      <td>Select</td>\n",
       "      <td>No</td>\n",
       "      <td>Unemployed</td>\n",
       "      <td>API</td>\n",
       "      <td>0.0</td>\n",
       "      <td>15.0</td>\n",
       "      <td>15.0</td>\n",
       "      <td>0</td>\n",
       "      <td>Page Visited on Website</td>\n",
       "      <td>0</td>\n",
       "    </tr>\n",
       "    <tr>\n",
       "      <th>660728</th>\n",
       "      <td>Select</td>\n",
       "      <td>No</td>\n",
       "      <td>Unemployed</td>\n",
       "      <td>API</td>\n",
       "      <td>2.5</td>\n",
       "      <td>15.0</td>\n",
       "      <td>15.0</td>\n",
       "      <td>674</td>\n",
       "      <td>Email Opened</td>\n",
       "      <td>5</td>\n",
       "    </tr>\n",
       "    <tr>\n",
       "      <th>660727</th>\n",
       "      <td>Business Administration</td>\n",
       "      <td>Yes</td>\n",
       "      <td>Student</td>\n",
       "      <td>Landing Page Submission</td>\n",
       "      <td>2.0</td>\n",
       "      <td>14.0</td>\n",
       "      <td>20.0</td>\n",
       "      <td>1532</td>\n",
       "      <td>Email Opened</td>\n",
       "      <td>2</td>\n",
       "    </tr>\n",
       "    <tr>\n",
       "      <th>660719</th>\n",
       "      <td>Media and Advertising</td>\n",
       "      <td>No</td>\n",
       "      <td>Unemployed</td>\n",
       "      <td>Landing Page Submission</td>\n",
       "      <td>1.0</td>\n",
       "      <td>13.0</td>\n",
       "      <td>17.0</td>\n",
       "      <td>305</td>\n",
       "      <td>OTROS</td>\n",
       "      <td>1</td>\n",
       "    </tr>\n",
       "    <tr>\n",
       "      <th>660681</th>\n",
       "      <td>Select</td>\n",
       "      <td>No</td>\n",
       "      <td>Unemployed</td>\n",
       "      <td>Landing Page Submission</td>\n",
       "      <td>1.0</td>\n",
       "      <td>15.0</td>\n",
       "      <td>18.0</td>\n",
       "      <td>1428</td>\n",
       "      <td>Converted to Lead</td>\n",
       "      <td>2</td>\n",
       "    </tr>\n",
       "    <tr>\n",
       "      <th>...</th>\n",
       "      <td>...</td>\n",
       "      <td>...</td>\n",
       "      <td>...</td>\n",
       "      <td>...</td>\n",
       "      <td>...</td>\n",
       "      <td>...</td>\n",
       "      <td>...</td>\n",
       "      <td>...</td>\n",
       "      <td>...</td>\n",
       "      <td>...</td>\n",
       "    </tr>\n",
       "    <tr>\n",
       "      <th>579622</th>\n",
       "      <td>Select</td>\n",
       "      <td>No</td>\n",
       "      <td>Unemployed</td>\n",
       "      <td>API</td>\n",
       "      <td>2.6</td>\n",
       "      <td>14.0</td>\n",
       "      <td>17.0</td>\n",
       "      <td>1409</td>\n",
       "      <td>SMS Sent</td>\n",
       "      <td>13</td>\n",
       "    </tr>\n",
       "    <tr>\n",
       "      <th>579615</th>\n",
       "      <td>Business Administration</td>\n",
       "      <td>No</td>\n",
       "      <td>Unemployed</td>\n",
       "      <td>Landing Page Submission</td>\n",
       "      <td>2.5</td>\n",
       "      <td>14.0</td>\n",
       "      <td>20.0</td>\n",
       "      <td>210</td>\n",
       "      <td>SMS Sent</td>\n",
       "      <td>5</td>\n",
       "    </tr>\n",
       "    <tr>\n",
       "      <th>579546</th>\n",
       "      <td>Media and Advertising</td>\n",
       "      <td>Yes</td>\n",
       "      <td>Unemployed</td>\n",
       "      <td>Landing Page Submission</td>\n",
       "      <td>2.0</td>\n",
       "      <td>14.0</td>\n",
       "      <td>19.0</td>\n",
       "      <td>238</td>\n",
       "      <td>SMS Sent</td>\n",
       "      <td>2</td>\n",
       "    </tr>\n",
       "    <tr>\n",
       "      <th>579538</th>\n",
       "      <td>Human Resource Management</td>\n",
       "      <td>No</td>\n",
       "      <td>Unemployed</td>\n",
       "      <td>Landing Page Submission</td>\n",
       "      <td>3.0</td>\n",
       "      <td>15.0</td>\n",
       "      <td>16.0</td>\n",
       "      <td>499</td>\n",
       "      <td>SMS Sent</td>\n",
       "      <td>3</td>\n",
       "    </tr>\n",
       "    <tr>\n",
       "      <th>579533</th>\n",
       "      <td>Supply Chain Management</td>\n",
       "      <td>Yes</td>\n",
       "      <td>Unemployed</td>\n",
       "      <td>Landing Page Submission</td>\n",
       "      <td>3.0</td>\n",
       "      <td>15.0</td>\n",
       "      <td>18.0</td>\n",
       "      <td>1279</td>\n",
       "      <td>SMS Sent</td>\n",
       "      <td>6</td>\n",
       "    </tr>\n",
       "  </tbody>\n",
       "</table>\n",
       "<p>6840 rows × 10 columns</p>\n",
       "</div>"
      ],
      "text/plain": [
       "                           ambito descarga_lm   ocupacion  \\\n",
       "id                                                          \n",
       "660737                     Select          No  Unemployed   \n",
       "660728                     Select          No  Unemployed   \n",
       "660727    Business Administration         Yes     Student   \n",
       "660719      Media and Advertising          No  Unemployed   \n",
       "660681                     Select          No  Unemployed   \n",
       "...                           ...         ...         ...   \n",
       "579622                     Select          No  Unemployed   \n",
       "579615    Business Administration          No  Unemployed   \n",
       "579546      Media and Advertising         Yes  Unemployed   \n",
       "579538  Human Resource Management          No  Unemployed   \n",
       "579533    Supply Chain Management         Yes  Unemployed   \n",
       "\n",
       "                         origen  paginas_vistas_visita  score_actividad  \\\n",
       "id                                                                        \n",
       "660737                      API                    0.0             15.0   \n",
       "660728                      API                    2.5             15.0   \n",
       "660727  Landing Page Submission                    2.0             14.0   \n",
       "660719  Landing Page Submission                    1.0             13.0   \n",
       "660681  Landing Page Submission                    1.0             15.0   \n",
       "...                         ...                    ...              ...   \n",
       "579622                      API                    2.6             14.0   \n",
       "579615  Landing Page Submission                    2.5             14.0   \n",
       "579546  Landing Page Submission                    2.0             14.0   \n",
       "579538  Landing Page Submission                    3.0             15.0   \n",
       "579533  Landing Page Submission                    3.0             15.0   \n",
       "\n",
       "        score_perfil  tiempo_en_site_total            ult_actividad  \\\n",
       "id                                                                    \n",
       "660737          15.0                     0  Page Visited on Website   \n",
       "660728          15.0                   674             Email Opened   \n",
       "660727          20.0                  1532             Email Opened   \n",
       "660719          17.0                   305                    OTROS   \n",
       "660681          18.0                  1428        Converted to Lead   \n",
       "...              ...                   ...                      ...   \n",
       "579622          17.0                  1409                 SMS Sent   \n",
       "579615          20.0                   210                 SMS Sent   \n",
       "579546          19.0                   238                 SMS Sent   \n",
       "579538          16.0                   499                 SMS Sent   \n",
       "579533          18.0                  1279                 SMS Sent   \n",
       "\n",
       "        visitas_total  \n",
       "id                     \n",
       "660737              0  \n",
       "660728              5  \n",
       "660727              2  \n",
       "660719              1  \n",
       "660681              2  \n",
       "...               ...  \n",
       "579622             13  \n",
       "579615              5  \n",
       "579546              2  \n",
       "579538              3  \n",
       "579533              6  \n",
       "\n",
       "[6840 rows x 10 columns]"
      ]
     },
     "execution_count": 15,
     "metadata": {},
     "output_type": "execute_result"
    }
   ],
   "source": [
    "calidad_datos(x)"
   ]
  },
  {
   "cell_type": "code",
   "execution_count": 16,
   "id": "51fb3789-0236-4922-88de-42159740d14e",
   "metadata": {},
   "outputs": [
    {
     "data": {
      "text/plain": [
       "ambito                   0\n",
       "descarga_lm              0\n",
       "ocupacion                0\n",
       "origen                   0\n",
       "paginas_vistas_visita    0\n",
       "score_actividad          0\n",
       "score_perfil             0\n",
       "tiempo_en_site_total     0\n",
       "ult_actividad            0\n",
       "visitas_total            0\n",
       "dtype: int64"
      ]
     },
     "execution_count": 16,
     "metadata": {},
     "output_type": "execute_result"
    }
   ],
   "source": [
    "calidad_datos(x).isna().sum()"
   ]
  },
  {
   "cell_type": "markdown",
   "id": "95bd7490",
   "metadata": {},
   "source": [
    "### Convertirla en transformer"
   ]
  },
  {
   "cell_type": "code",
   "execution_count": 17,
   "id": "6805f964",
   "metadata": {},
   "outputs": [],
   "source": [
    "hacer_calidad_datos = FunctionTransformer(calidad_datos)"
   ]
  },
  {
   "cell_type": "markdown",
   "id": "88e57147",
   "metadata": {},
   "source": [
    "## Instanciar transformación de variables"
   ]
  },
  {
   "cell_type": "code",
   "execution_count": 18,
   "id": "ee711664",
   "metadata": {},
   "outputs": [],
   "source": [
    "var_ohe = ['ambito','descarga_lm','ocupacion','origen','ult_actividad']\n",
    "ohe = OneHotEncoder(sparse_output = False, handle_unknown='ignore')\n",
    "\n",
    "\n",
    "var_mms = ['paginas_vistas_visita','score_actividad','score_perfil','tiempo_en_site_total','visitas_total']\n",
    "mms = MinMaxScaler()"
   ]
  },
  {
   "cell_type": "markdown",
   "id": "eaf3f141",
   "metadata": {},
   "source": [
    "## Crear el pipe del preprocesamiento"
   ]
  },
  {
   "cell_type": "markdown",
   "id": "8d7b7821",
   "metadata": {},
   "source": [
    "### Crear el column transformer"
   ]
  },
  {
   "cell_type": "code",
   "execution_count": 19,
   "id": "e577b34d",
   "metadata": {},
   "outputs": [],
   "source": [
    "ct = make_column_transformer(\n",
    "    (ohe, var_ohe),\n",
    "    (mms, var_mms),\n",
    "    remainder='drop')"
   ]
  },
  {
   "cell_type": "markdown",
   "id": "5de30e37",
   "metadata": {},
   "source": [
    "### Crear el pipeline del preprocesamiento"
   ]
  },
  {
   "cell_type": "code",
   "execution_count": 20,
   "id": "54e1300d",
   "metadata": {},
   "outputs": [],
   "source": [
    "pipe_prepro = make_pipeline(hacer_calidad_datos, \n",
    "                            ct)"
   ]
  },
  {
   "cell_type": "markdown",
   "id": "d4b08601",
   "metadata": {},
   "source": [
    "## Instanciar el modelo"
   ]
  },
  {
   "cell_type": "markdown",
   "id": "b64c9e60",
   "metadata": {},
   "source": [
    "### Instanciar el algoritmo"
   ]
  },
  {
   "cell_type": "code",
   "execution_count": 21,
   "id": "8b2e752d",
   "metadata": {},
   "outputs": [],
   "source": [
    "modelo = LogisticRegression(n_jobs = -1, \n",
    "                       solver = 'saga',\n",
    "                       penalty = 'l1',\n",
    "                       C = 1,\n",
    "                       )"
   ]
  },
  {
   "cell_type": "markdown",
   "id": "80f8e2f3",
   "metadata": {},
   "source": [
    "### Crear el pipe final de entrenamiento"
   ]
  },
  {
   "cell_type": "code",
   "execution_count": 22,
   "id": "0efb038b",
   "metadata": {},
   "outputs": [],
   "source": [
    "pipe_entrenamiento = make_pipeline(pipe_prepro,modelo)"
   ]
  },
  {
   "cell_type": "markdown",
   "id": "cb0700d8",
   "metadata": {},
   "source": [
    "### Guardar el pipe final de entrenamiento"
   ]
  },
  {
   "cell_type": "code",
   "execution_count": 23,
   "id": "71715e9c",
   "metadata": {},
   "outputs": [],
   "source": [
    "nombre_pipe_entrenamiento = 'pipe_entrenamiento.pickle'\n",
    "\n",
    "ruta_pipe_entrenamiento = ruta_proyecto + '/04_Modelos/' + nombre_pipe_entrenamiento\n",
    "\n",
    "with open(ruta_pipe_entrenamiento, mode='wb') as file:\n",
    "   cloudpickle.dump(pipe_entrenamiento, file)"
   ]
  },
  {
   "cell_type": "markdown",
   "id": "2c7e5ed1",
   "metadata": {},
   "source": [
    "### Entrenar el pipe final de ejecución"
   ]
  },
  {
   "cell_type": "code",
   "execution_count": 24,
   "id": "13ca2db6",
   "metadata": {},
   "outputs": [],
   "source": [
    "pipe_ejecucion = pipe_entrenamiento.fit(x,y)"
   ]
  },
  {
   "cell_type": "code",
   "execution_count": 25,
   "id": "1368836d-b4e5-46bf-a537-b9cfe9c280af",
   "metadata": {},
   "outputs": [
    {
     "data": {
      "text/html": [
       "<style>#sk-container-id-1 {\n",
       "  /* Definition of color scheme common for light and dark mode */\n",
       "  --sklearn-color-text: #000;\n",
       "  --sklearn-color-text-muted: #666;\n",
       "  --sklearn-color-line: gray;\n",
       "  /* Definition of color scheme for unfitted estimators */\n",
       "  --sklearn-color-unfitted-level-0: #fff5e6;\n",
       "  --sklearn-color-unfitted-level-1: #f6e4d2;\n",
       "  --sklearn-color-unfitted-level-2: #ffe0b3;\n",
       "  --sklearn-color-unfitted-level-3: chocolate;\n",
       "  /* Definition of color scheme for fitted estimators */\n",
       "  --sklearn-color-fitted-level-0: #f0f8ff;\n",
       "  --sklearn-color-fitted-level-1: #d4ebff;\n",
       "  --sklearn-color-fitted-level-2: #b3dbfd;\n",
       "  --sklearn-color-fitted-level-3: cornflowerblue;\n",
       "\n",
       "  /* Specific color for light theme */\n",
       "  --sklearn-color-text-on-default-background: var(--sg-text-color, var(--theme-code-foreground, var(--jp-content-font-color1, black)));\n",
       "  --sklearn-color-background: var(--sg-background-color, var(--theme-background, var(--jp-layout-color0, white)));\n",
       "  --sklearn-color-border-box: var(--sg-text-color, var(--theme-code-foreground, var(--jp-content-font-color1, black)));\n",
       "  --sklearn-color-icon: #696969;\n",
       "\n",
       "  @media (prefers-color-scheme: dark) {\n",
       "    /* Redefinition of color scheme for dark theme */\n",
       "    --sklearn-color-text-on-default-background: var(--sg-text-color, var(--theme-code-foreground, var(--jp-content-font-color1, white)));\n",
       "    --sklearn-color-background: var(--sg-background-color, var(--theme-background, var(--jp-layout-color0, #111)));\n",
       "    --sklearn-color-border-box: var(--sg-text-color, var(--theme-code-foreground, var(--jp-content-font-color1, white)));\n",
       "    --sklearn-color-icon: #878787;\n",
       "  }\n",
       "}\n",
       "\n",
       "#sk-container-id-1 {\n",
       "  color: var(--sklearn-color-text);\n",
       "}\n",
       "\n",
       "#sk-container-id-1 pre {\n",
       "  padding: 0;\n",
       "}\n",
       "\n",
       "#sk-container-id-1 input.sk-hidden--visually {\n",
       "  border: 0;\n",
       "  clip: rect(1px 1px 1px 1px);\n",
       "  clip: rect(1px, 1px, 1px, 1px);\n",
       "  height: 1px;\n",
       "  margin: -1px;\n",
       "  overflow: hidden;\n",
       "  padding: 0;\n",
       "  position: absolute;\n",
       "  width: 1px;\n",
       "}\n",
       "\n",
       "#sk-container-id-1 div.sk-dashed-wrapped {\n",
       "  border: 1px dashed var(--sklearn-color-line);\n",
       "  margin: 0 0.4em 0.5em 0.4em;\n",
       "  box-sizing: border-box;\n",
       "  padding-bottom: 0.4em;\n",
       "  background-color: var(--sklearn-color-background);\n",
       "}\n",
       "\n",
       "#sk-container-id-1 div.sk-container {\n",
       "  /* jupyter's `normalize.less` sets `[hidden] { display: none; }`\n",
       "     but bootstrap.min.css set `[hidden] { display: none !important; }`\n",
       "     so we also need the `!important` here to be able to override the\n",
       "     default hidden behavior on the sphinx rendered scikit-learn.org.\n",
       "     See: https://github.com/scikit-learn/scikit-learn/issues/21755 */\n",
       "  display: inline-block !important;\n",
       "  position: relative;\n",
       "}\n",
       "\n",
       "#sk-container-id-1 div.sk-text-repr-fallback {\n",
       "  display: none;\n",
       "}\n",
       "\n",
       "div.sk-parallel-item,\n",
       "div.sk-serial,\n",
       "div.sk-item {\n",
       "  /* draw centered vertical line to link estimators */\n",
       "  background-image: linear-gradient(var(--sklearn-color-text-on-default-background), var(--sklearn-color-text-on-default-background));\n",
       "  background-size: 2px 100%;\n",
       "  background-repeat: no-repeat;\n",
       "  background-position: center center;\n",
       "}\n",
       "\n",
       "/* Parallel-specific style estimator block */\n",
       "\n",
       "#sk-container-id-1 div.sk-parallel-item::after {\n",
       "  content: \"\";\n",
       "  width: 100%;\n",
       "  border-bottom: 2px solid var(--sklearn-color-text-on-default-background);\n",
       "  flex-grow: 1;\n",
       "}\n",
       "\n",
       "#sk-container-id-1 div.sk-parallel {\n",
       "  display: flex;\n",
       "  align-items: stretch;\n",
       "  justify-content: center;\n",
       "  background-color: var(--sklearn-color-background);\n",
       "  position: relative;\n",
       "}\n",
       "\n",
       "#sk-container-id-1 div.sk-parallel-item {\n",
       "  display: flex;\n",
       "  flex-direction: column;\n",
       "}\n",
       "\n",
       "#sk-container-id-1 div.sk-parallel-item:first-child::after {\n",
       "  align-self: flex-end;\n",
       "  width: 50%;\n",
       "}\n",
       "\n",
       "#sk-container-id-1 div.sk-parallel-item:last-child::after {\n",
       "  align-self: flex-start;\n",
       "  width: 50%;\n",
       "}\n",
       "\n",
       "#sk-container-id-1 div.sk-parallel-item:only-child::after {\n",
       "  width: 0;\n",
       "}\n",
       "\n",
       "/* Serial-specific style estimator block */\n",
       "\n",
       "#sk-container-id-1 div.sk-serial {\n",
       "  display: flex;\n",
       "  flex-direction: column;\n",
       "  align-items: center;\n",
       "  background-color: var(--sklearn-color-background);\n",
       "  padding-right: 1em;\n",
       "  padding-left: 1em;\n",
       "}\n",
       "\n",
       "\n",
       "/* Toggleable style: style used for estimator/Pipeline/ColumnTransformer box that is\n",
       "clickable and can be expanded/collapsed.\n",
       "- Pipeline and ColumnTransformer use this feature and define the default style\n",
       "- Estimators will overwrite some part of the style using the `sk-estimator` class\n",
       "*/\n",
       "\n",
       "/* Pipeline and ColumnTransformer style (default) */\n",
       "\n",
       "#sk-container-id-1 div.sk-toggleable {\n",
       "  /* Default theme specific background. It is overwritten whether we have a\n",
       "  specific estimator or a Pipeline/ColumnTransformer */\n",
       "  background-color: var(--sklearn-color-background);\n",
       "}\n",
       "\n",
       "/* Toggleable label */\n",
       "#sk-container-id-1 label.sk-toggleable__label {\n",
       "  cursor: pointer;\n",
       "  display: flex;\n",
       "  width: 100%;\n",
       "  margin-bottom: 0;\n",
       "  padding: 0.5em;\n",
       "  box-sizing: border-box;\n",
       "  text-align: center;\n",
       "  align-items: start;\n",
       "  justify-content: space-between;\n",
       "  gap: 0.5em;\n",
       "}\n",
       "\n",
       "#sk-container-id-1 label.sk-toggleable__label .caption {\n",
       "  font-size: 0.6rem;\n",
       "  font-weight: lighter;\n",
       "  color: var(--sklearn-color-text-muted);\n",
       "}\n",
       "\n",
       "#sk-container-id-1 label.sk-toggleable__label-arrow:before {\n",
       "  /* Arrow on the left of the label */\n",
       "  content: \"▸\";\n",
       "  float: left;\n",
       "  margin-right: 0.25em;\n",
       "  color: var(--sklearn-color-icon);\n",
       "}\n",
       "\n",
       "#sk-container-id-1 label.sk-toggleable__label-arrow:hover:before {\n",
       "  color: var(--sklearn-color-text);\n",
       "}\n",
       "\n",
       "/* Toggleable content - dropdown */\n",
       "\n",
       "#sk-container-id-1 div.sk-toggleable__content {\n",
       "  max-height: 0;\n",
       "  max-width: 0;\n",
       "  overflow: hidden;\n",
       "  text-align: left;\n",
       "  /* unfitted */\n",
       "  background-color: var(--sklearn-color-unfitted-level-0);\n",
       "}\n",
       "\n",
       "#sk-container-id-1 div.sk-toggleable__content.fitted {\n",
       "  /* fitted */\n",
       "  background-color: var(--sklearn-color-fitted-level-0);\n",
       "}\n",
       "\n",
       "#sk-container-id-1 div.sk-toggleable__content pre {\n",
       "  margin: 0.2em;\n",
       "  border-radius: 0.25em;\n",
       "  color: var(--sklearn-color-text);\n",
       "  /* unfitted */\n",
       "  background-color: var(--sklearn-color-unfitted-level-0);\n",
       "}\n",
       "\n",
       "#sk-container-id-1 div.sk-toggleable__content.fitted pre {\n",
       "  /* unfitted */\n",
       "  background-color: var(--sklearn-color-fitted-level-0);\n",
       "}\n",
       "\n",
       "#sk-container-id-1 input.sk-toggleable__control:checked~div.sk-toggleable__content {\n",
       "  /* Expand drop-down */\n",
       "  max-height: 200px;\n",
       "  max-width: 100%;\n",
       "  overflow: auto;\n",
       "}\n",
       "\n",
       "#sk-container-id-1 input.sk-toggleable__control:checked~label.sk-toggleable__label-arrow:before {\n",
       "  content: \"▾\";\n",
       "}\n",
       "\n",
       "/* Pipeline/ColumnTransformer-specific style */\n",
       "\n",
       "#sk-container-id-1 div.sk-label input.sk-toggleable__control:checked~label.sk-toggleable__label {\n",
       "  color: var(--sklearn-color-text);\n",
       "  background-color: var(--sklearn-color-unfitted-level-2);\n",
       "}\n",
       "\n",
       "#sk-container-id-1 div.sk-label.fitted input.sk-toggleable__control:checked~label.sk-toggleable__label {\n",
       "  background-color: var(--sklearn-color-fitted-level-2);\n",
       "}\n",
       "\n",
       "/* Estimator-specific style */\n",
       "\n",
       "/* Colorize estimator box */\n",
       "#sk-container-id-1 div.sk-estimator input.sk-toggleable__control:checked~label.sk-toggleable__label {\n",
       "  /* unfitted */\n",
       "  background-color: var(--sklearn-color-unfitted-level-2);\n",
       "}\n",
       "\n",
       "#sk-container-id-1 div.sk-estimator.fitted input.sk-toggleable__control:checked~label.sk-toggleable__label {\n",
       "  /* fitted */\n",
       "  background-color: var(--sklearn-color-fitted-level-2);\n",
       "}\n",
       "\n",
       "#sk-container-id-1 div.sk-label label.sk-toggleable__label,\n",
       "#sk-container-id-1 div.sk-label label {\n",
       "  /* The background is the default theme color */\n",
       "  color: var(--sklearn-color-text-on-default-background);\n",
       "}\n",
       "\n",
       "/* On hover, darken the color of the background */\n",
       "#sk-container-id-1 div.sk-label:hover label.sk-toggleable__label {\n",
       "  color: var(--sklearn-color-text);\n",
       "  background-color: var(--sklearn-color-unfitted-level-2);\n",
       "}\n",
       "\n",
       "/* Label box, darken color on hover, fitted */\n",
       "#sk-container-id-1 div.sk-label.fitted:hover label.sk-toggleable__label.fitted {\n",
       "  color: var(--sklearn-color-text);\n",
       "  background-color: var(--sklearn-color-fitted-level-2);\n",
       "}\n",
       "\n",
       "/* Estimator label */\n",
       "\n",
       "#sk-container-id-1 div.sk-label label {\n",
       "  font-family: monospace;\n",
       "  font-weight: bold;\n",
       "  display: inline-block;\n",
       "  line-height: 1.2em;\n",
       "}\n",
       "\n",
       "#sk-container-id-1 div.sk-label-container {\n",
       "  text-align: center;\n",
       "}\n",
       "\n",
       "/* Estimator-specific */\n",
       "#sk-container-id-1 div.sk-estimator {\n",
       "  font-family: monospace;\n",
       "  border: 1px dotted var(--sklearn-color-border-box);\n",
       "  border-radius: 0.25em;\n",
       "  box-sizing: border-box;\n",
       "  margin-bottom: 0.5em;\n",
       "  /* unfitted */\n",
       "  background-color: var(--sklearn-color-unfitted-level-0);\n",
       "}\n",
       "\n",
       "#sk-container-id-1 div.sk-estimator.fitted {\n",
       "  /* fitted */\n",
       "  background-color: var(--sklearn-color-fitted-level-0);\n",
       "}\n",
       "\n",
       "/* on hover */\n",
       "#sk-container-id-1 div.sk-estimator:hover {\n",
       "  /* unfitted */\n",
       "  background-color: var(--sklearn-color-unfitted-level-2);\n",
       "}\n",
       "\n",
       "#sk-container-id-1 div.sk-estimator.fitted:hover {\n",
       "  /* fitted */\n",
       "  background-color: var(--sklearn-color-fitted-level-2);\n",
       "}\n",
       "\n",
       "/* Specification for estimator info (e.g. \"i\" and \"?\") */\n",
       "\n",
       "/* Common style for \"i\" and \"?\" */\n",
       "\n",
       ".sk-estimator-doc-link,\n",
       "a:link.sk-estimator-doc-link,\n",
       "a:visited.sk-estimator-doc-link {\n",
       "  float: right;\n",
       "  font-size: smaller;\n",
       "  line-height: 1em;\n",
       "  font-family: monospace;\n",
       "  background-color: var(--sklearn-color-background);\n",
       "  border-radius: 1em;\n",
       "  height: 1em;\n",
       "  width: 1em;\n",
       "  text-decoration: none !important;\n",
       "  margin-left: 0.5em;\n",
       "  text-align: center;\n",
       "  /* unfitted */\n",
       "  border: var(--sklearn-color-unfitted-level-1) 1pt solid;\n",
       "  color: var(--sklearn-color-unfitted-level-1);\n",
       "}\n",
       "\n",
       ".sk-estimator-doc-link.fitted,\n",
       "a:link.sk-estimator-doc-link.fitted,\n",
       "a:visited.sk-estimator-doc-link.fitted {\n",
       "  /* fitted */\n",
       "  border: var(--sklearn-color-fitted-level-1) 1pt solid;\n",
       "  color: var(--sklearn-color-fitted-level-1);\n",
       "}\n",
       "\n",
       "/* On hover */\n",
       "div.sk-estimator:hover .sk-estimator-doc-link:hover,\n",
       ".sk-estimator-doc-link:hover,\n",
       "div.sk-label-container:hover .sk-estimator-doc-link:hover,\n",
       ".sk-estimator-doc-link:hover {\n",
       "  /* unfitted */\n",
       "  background-color: var(--sklearn-color-unfitted-level-3);\n",
       "  color: var(--sklearn-color-background);\n",
       "  text-decoration: none;\n",
       "}\n",
       "\n",
       "div.sk-estimator.fitted:hover .sk-estimator-doc-link.fitted:hover,\n",
       ".sk-estimator-doc-link.fitted:hover,\n",
       "div.sk-label-container:hover .sk-estimator-doc-link.fitted:hover,\n",
       ".sk-estimator-doc-link.fitted:hover {\n",
       "  /* fitted */\n",
       "  background-color: var(--sklearn-color-fitted-level-3);\n",
       "  color: var(--sklearn-color-background);\n",
       "  text-decoration: none;\n",
       "}\n",
       "\n",
       "/* Span, style for the box shown on hovering the info icon */\n",
       ".sk-estimator-doc-link span {\n",
       "  display: none;\n",
       "  z-index: 9999;\n",
       "  position: relative;\n",
       "  font-weight: normal;\n",
       "  right: .2ex;\n",
       "  padding: .5ex;\n",
       "  margin: .5ex;\n",
       "  width: min-content;\n",
       "  min-width: 20ex;\n",
       "  max-width: 50ex;\n",
       "  color: var(--sklearn-color-text);\n",
       "  box-shadow: 2pt 2pt 4pt #999;\n",
       "  /* unfitted */\n",
       "  background: var(--sklearn-color-unfitted-level-0);\n",
       "  border: .5pt solid var(--sklearn-color-unfitted-level-3);\n",
       "}\n",
       "\n",
       ".sk-estimator-doc-link.fitted span {\n",
       "  /* fitted */\n",
       "  background: var(--sklearn-color-fitted-level-0);\n",
       "  border: var(--sklearn-color-fitted-level-3);\n",
       "}\n",
       "\n",
       ".sk-estimator-doc-link:hover span {\n",
       "  display: block;\n",
       "}\n",
       "\n",
       "/* \"?\"-specific style due to the `<a>` HTML tag */\n",
       "\n",
       "#sk-container-id-1 a.estimator_doc_link {\n",
       "  float: right;\n",
       "  font-size: 1rem;\n",
       "  line-height: 1em;\n",
       "  font-family: monospace;\n",
       "  background-color: var(--sklearn-color-background);\n",
       "  border-radius: 1rem;\n",
       "  height: 1rem;\n",
       "  width: 1rem;\n",
       "  text-decoration: none;\n",
       "  /* unfitted */\n",
       "  color: var(--sklearn-color-unfitted-level-1);\n",
       "  border: var(--sklearn-color-unfitted-level-1) 1pt solid;\n",
       "}\n",
       "\n",
       "#sk-container-id-1 a.estimator_doc_link.fitted {\n",
       "  /* fitted */\n",
       "  border: var(--sklearn-color-fitted-level-1) 1pt solid;\n",
       "  color: var(--sklearn-color-fitted-level-1);\n",
       "}\n",
       "\n",
       "/* On hover */\n",
       "#sk-container-id-1 a.estimator_doc_link:hover {\n",
       "  /* unfitted */\n",
       "  background-color: var(--sklearn-color-unfitted-level-3);\n",
       "  color: var(--sklearn-color-background);\n",
       "  text-decoration: none;\n",
       "}\n",
       "\n",
       "#sk-container-id-1 a.estimator_doc_link.fitted:hover {\n",
       "  /* fitted */\n",
       "  background-color: var(--sklearn-color-fitted-level-3);\n",
       "}\n",
       "</style><div id=\"sk-container-id-1\" class=\"sk-top-container\"><div class=\"sk-text-repr-fallback\"><pre>Pipeline(steps=[(&#x27;pipeline&#x27;,\n",
       "                 Pipeline(steps=[(&#x27;functiontransformer&#x27;,\n",
       "                                  FunctionTransformer(func=&lt;function calidad_datos at 0x000001B79D891B20&gt;)),\n",
       "                                 (&#x27;columntransformer&#x27;,\n",
       "                                  ColumnTransformer(transformers=[(&#x27;onehotencoder&#x27;,\n",
       "                                                                   OneHotEncoder(handle_unknown=&#x27;ignore&#x27;,\n",
       "                                                                                 sparse_output=False),\n",
       "                                                                   [&#x27;ambito&#x27;,\n",
       "                                                                    &#x27;descarga_lm&#x27;,\n",
       "                                                                    &#x27;ocupacion&#x27;,\n",
       "                                                                    &#x27;origen&#x27;,\n",
       "                                                                    &#x27;ult_actividad&#x27;]),\n",
       "                                                                  (&#x27;minmaxscaler&#x27;,\n",
       "                                                                   MinMaxScaler(),\n",
       "                                                                   [&#x27;paginas_vistas_visita&#x27;,\n",
       "                                                                    &#x27;score_actividad&#x27;,\n",
       "                                                                    &#x27;score_perfil&#x27;,\n",
       "                                                                    &#x27;tiempo_en_site_total&#x27;,\n",
       "                                                                    &#x27;visitas_total&#x27;])]))])),\n",
       "                (&#x27;logisticregression&#x27;,\n",
       "                 LogisticRegression(C=1, n_jobs=-1, penalty=&#x27;l1&#x27;,\n",
       "                                    solver=&#x27;saga&#x27;))])</pre><b>In a Jupyter environment, please rerun this cell to show the HTML representation or trust the notebook. <br />On GitHub, the HTML representation is unable to render, please try loading this page with nbviewer.org.</b></div><div class=\"sk-container\" hidden><div class=\"sk-item sk-dashed-wrapped\"><div class=\"sk-label-container\"><div class=\"sk-label fitted sk-toggleable\"><input class=\"sk-toggleable__control sk-hidden--visually\" id=\"sk-estimator-id-1\" type=\"checkbox\" ><label for=\"sk-estimator-id-1\" class=\"sk-toggleable__label fitted sk-toggleable__label-arrow\"><div><div>Pipeline</div></div><div><a class=\"sk-estimator-doc-link fitted\" rel=\"noreferrer\" target=\"_blank\" href=\"https://scikit-learn.org/1.6/modules/generated/sklearn.pipeline.Pipeline.html\">?<span>Documentation for Pipeline</span></a><span class=\"sk-estimator-doc-link fitted\">i<span>Fitted</span></span></div></label><div class=\"sk-toggleable__content fitted\"><pre>Pipeline(steps=[(&#x27;pipeline&#x27;,\n",
       "                 Pipeline(steps=[(&#x27;functiontransformer&#x27;,\n",
       "                                  FunctionTransformer(func=&lt;function calidad_datos at 0x000001B79D891B20&gt;)),\n",
       "                                 (&#x27;columntransformer&#x27;,\n",
       "                                  ColumnTransformer(transformers=[(&#x27;onehotencoder&#x27;,\n",
       "                                                                   OneHotEncoder(handle_unknown=&#x27;ignore&#x27;,\n",
       "                                                                                 sparse_output=False),\n",
       "                                                                   [&#x27;ambito&#x27;,\n",
       "                                                                    &#x27;descarga_lm&#x27;,\n",
       "                                                                    &#x27;ocupacion&#x27;,\n",
       "                                                                    &#x27;origen&#x27;,\n",
       "                                                                    &#x27;ult_actividad&#x27;]),\n",
       "                                                                  (&#x27;minmaxscaler&#x27;,\n",
       "                                                                   MinMaxScaler(),\n",
       "                                                                   [&#x27;paginas_vistas_visita&#x27;,\n",
       "                                                                    &#x27;score_actividad&#x27;,\n",
       "                                                                    &#x27;score_perfil&#x27;,\n",
       "                                                                    &#x27;tiempo_en_site_total&#x27;,\n",
       "                                                                    &#x27;visitas_total&#x27;])]))])),\n",
       "                (&#x27;logisticregression&#x27;,\n",
       "                 LogisticRegression(C=1, n_jobs=-1, penalty=&#x27;l1&#x27;,\n",
       "                                    solver=&#x27;saga&#x27;))])</pre></div> </div></div><div class=\"sk-serial\"><div class=\"sk-item\"><div class=\"sk-label-container\"><div class=\"sk-label fitted sk-toggleable\"><input class=\"sk-toggleable__control sk-hidden--visually\" id=\"sk-estimator-id-2\" type=\"checkbox\" ><label for=\"sk-estimator-id-2\" class=\"sk-toggleable__label fitted sk-toggleable__label-arrow\"><div><div>pipeline: Pipeline</div></div><div><a class=\"sk-estimator-doc-link fitted\" rel=\"noreferrer\" target=\"_blank\" href=\"https://scikit-learn.org/1.6/modules/generated/sklearn.pipeline.Pipeline.html\">?<span>Documentation for pipeline: Pipeline</span></a></div></label><div class=\"sk-toggleable__content fitted\"><pre>Pipeline(steps=[(&#x27;functiontransformer&#x27;,\n",
       "                 FunctionTransformer(func=&lt;function calidad_datos at 0x000001B79D891B20&gt;)),\n",
       "                (&#x27;columntransformer&#x27;,\n",
       "                 ColumnTransformer(transformers=[(&#x27;onehotencoder&#x27;,\n",
       "                                                  OneHotEncoder(handle_unknown=&#x27;ignore&#x27;,\n",
       "                                                                sparse_output=False),\n",
       "                                                  [&#x27;ambito&#x27;, &#x27;descarga_lm&#x27;,\n",
       "                                                   &#x27;ocupacion&#x27;, &#x27;origen&#x27;,\n",
       "                                                   &#x27;ult_actividad&#x27;]),\n",
       "                                                 (&#x27;minmaxscaler&#x27;,\n",
       "                                                  MinMaxScaler(),\n",
       "                                                  [&#x27;paginas_vistas_visita&#x27;,\n",
       "                                                   &#x27;score_actividad&#x27;,\n",
       "                                                   &#x27;score_perfil&#x27;,\n",
       "                                                   &#x27;tiempo_en_site_total&#x27;,\n",
       "                                                   &#x27;visitas_total&#x27;])]))])</pre></div> </div></div><div class=\"sk-serial\"><div class=\"sk-item\"><div class=\"sk-estimator fitted sk-toggleable\"><input class=\"sk-toggleable__control sk-hidden--visually\" id=\"sk-estimator-id-3\" type=\"checkbox\" ><label for=\"sk-estimator-id-3\" class=\"sk-toggleable__label fitted sk-toggleable__label-arrow\"><div><div>calidad_datos</div><div class=\"caption\">FunctionTransformer</div></div><div><a class=\"sk-estimator-doc-link fitted\" rel=\"noreferrer\" target=\"_blank\" href=\"https://scikit-learn.org/1.6/modules/generated/sklearn.preprocessing.FunctionTransformer.html\">?<span>Documentation for FunctionTransformer</span></a></div></label><div class=\"sk-toggleable__content fitted\"><pre>FunctionTransformer(func=&lt;function calidad_datos at 0x000001B79D891B20&gt;)</pre></div> </div></div><div class=\"sk-item sk-dashed-wrapped\"><div class=\"sk-label-container\"><div class=\"sk-label fitted sk-toggleable\"><input class=\"sk-toggleable__control sk-hidden--visually\" id=\"sk-estimator-id-4\" type=\"checkbox\" ><label for=\"sk-estimator-id-4\" class=\"sk-toggleable__label fitted sk-toggleable__label-arrow\"><div><div>columntransformer: ColumnTransformer</div></div><div><a class=\"sk-estimator-doc-link fitted\" rel=\"noreferrer\" target=\"_blank\" href=\"https://scikit-learn.org/1.6/modules/generated/sklearn.compose.ColumnTransformer.html\">?<span>Documentation for columntransformer: ColumnTransformer</span></a></div></label><div class=\"sk-toggleable__content fitted\"><pre>ColumnTransformer(transformers=[(&#x27;onehotencoder&#x27;,\n",
       "                                 OneHotEncoder(handle_unknown=&#x27;ignore&#x27;,\n",
       "                                               sparse_output=False),\n",
       "                                 [&#x27;ambito&#x27;, &#x27;descarga_lm&#x27;, &#x27;ocupacion&#x27;,\n",
       "                                  &#x27;origen&#x27;, &#x27;ult_actividad&#x27;]),\n",
       "                                (&#x27;minmaxscaler&#x27;, MinMaxScaler(),\n",
       "                                 [&#x27;paginas_vistas_visita&#x27;, &#x27;score_actividad&#x27;,\n",
       "                                  &#x27;score_perfil&#x27;, &#x27;tiempo_en_site_total&#x27;,\n",
       "                                  &#x27;visitas_total&#x27;])])</pre></div> </div></div><div class=\"sk-parallel\"><div class=\"sk-parallel-item\"><div class=\"sk-item\"><div class=\"sk-label-container\"><div class=\"sk-label fitted sk-toggleable\"><input class=\"sk-toggleable__control sk-hidden--visually\" id=\"sk-estimator-id-5\" type=\"checkbox\" ><label for=\"sk-estimator-id-5\" class=\"sk-toggleable__label fitted sk-toggleable__label-arrow\"><div><div>onehotencoder</div></div></label><div class=\"sk-toggleable__content fitted\"><pre>[&#x27;ambito&#x27;, &#x27;descarga_lm&#x27;, &#x27;ocupacion&#x27;, &#x27;origen&#x27;, &#x27;ult_actividad&#x27;]</pre></div> </div></div><div class=\"sk-serial\"><div class=\"sk-item\"><div class=\"sk-estimator fitted sk-toggleable\"><input class=\"sk-toggleable__control sk-hidden--visually\" id=\"sk-estimator-id-6\" type=\"checkbox\" ><label for=\"sk-estimator-id-6\" class=\"sk-toggleable__label fitted sk-toggleable__label-arrow\"><div><div>OneHotEncoder</div></div><div><a class=\"sk-estimator-doc-link fitted\" rel=\"noreferrer\" target=\"_blank\" href=\"https://scikit-learn.org/1.6/modules/generated/sklearn.preprocessing.OneHotEncoder.html\">?<span>Documentation for OneHotEncoder</span></a></div></label><div class=\"sk-toggleable__content fitted\"><pre>OneHotEncoder(handle_unknown=&#x27;ignore&#x27;, sparse_output=False)</pre></div> </div></div></div></div></div><div class=\"sk-parallel-item\"><div class=\"sk-item\"><div class=\"sk-label-container\"><div class=\"sk-label fitted sk-toggleable\"><input class=\"sk-toggleable__control sk-hidden--visually\" id=\"sk-estimator-id-7\" type=\"checkbox\" ><label for=\"sk-estimator-id-7\" class=\"sk-toggleable__label fitted sk-toggleable__label-arrow\"><div><div>minmaxscaler</div></div></label><div class=\"sk-toggleable__content fitted\"><pre>[&#x27;paginas_vistas_visita&#x27;, &#x27;score_actividad&#x27;, &#x27;score_perfil&#x27;, &#x27;tiempo_en_site_total&#x27;, &#x27;visitas_total&#x27;]</pre></div> </div></div><div class=\"sk-serial\"><div class=\"sk-item\"><div class=\"sk-estimator fitted sk-toggleable\"><input class=\"sk-toggleable__control sk-hidden--visually\" id=\"sk-estimator-id-8\" type=\"checkbox\" ><label for=\"sk-estimator-id-8\" class=\"sk-toggleable__label fitted sk-toggleable__label-arrow\"><div><div>MinMaxScaler</div></div><div><a class=\"sk-estimator-doc-link fitted\" rel=\"noreferrer\" target=\"_blank\" href=\"https://scikit-learn.org/1.6/modules/generated/sklearn.preprocessing.MinMaxScaler.html\">?<span>Documentation for MinMaxScaler</span></a></div></label><div class=\"sk-toggleable__content fitted\"><pre>MinMaxScaler()</pre></div> </div></div></div></div></div></div></div></div></div><div class=\"sk-item\"><div class=\"sk-estimator fitted sk-toggleable\"><input class=\"sk-toggleable__control sk-hidden--visually\" id=\"sk-estimator-id-9\" type=\"checkbox\" ><label for=\"sk-estimator-id-9\" class=\"sk-toggleable__label fitted sk-toggleable__label-arrow\"><div><div>LogisticRegression</div></div><div><a class=\"sk-estimator-doc-link fitted\" rel=\"noreferrer\" target=\"_blank\" href=\"https://scikit-learn.org/1.6/modules/generated/sklearn.linear_model.LogisticRegression.html\">?<span>Documentation for LogisticRegression</span></a></div></label><div class=\"sk-toggleable__content fitted\"><pre>LogisticRegression(C=1, n_jobs=-1, penalty=&#x27;l1&#x27;, solver=&#x27;saga&#x27;)</pre></div> </div></div></div></div></div></div>"
      ],
      "text/plain": [
       "Pipeline(steps=[('pipeline',\n",
       "                 Pipeline(steps=[('functiontransformer',\n",
       "                                  FunctionTransformer(func=<function calidad_datos at 0x000001B79D891B20>)),\n",
       "                                 ('columntransformer',\n",
       "                                  ColumnTransformer(transformers=[('onehotencoder',\n",
       "                                                                   OneHotEncoder(handle_unknown='ignore',\n",
       "                                                                                 sparse_output=False),\n",
       "                                                                   ['ambito',\n",
       "                                                                    'descarga_lm',\n",
       "                                                                    'ocupacion',\n",
       "                                                                    'origen',\n",
       "                                                                    'ult_actividad']),\n",
       "                                                                  ('minmaxscaler',\n",
       "                                                                   MinMaxScaler(),\n",
       "                                                                   ['paginas_vistas_visita',\n",
       "                                                                    'score_actividad',\n",
       "                                                                    'score_perfil',\n",
       "                                                                    'tiempo_en_site_total',\n",
       "                                                                    'visitas_total'])]))])),\n",
       "                ('logisticregression',\n",
       "                 LogisticRegression(C=1, n_jobs=-1, penalty='l1',\n",
       "                                    solver='saga'))])"
      ]
     },
     "execution_count": 25,
     "metadata": {},
     "output_type": "execute_result"
    }
   ],
   "source": [
    "pipe_ejecucion"
   ]
  },
  {
   "cell_type": "markdown",
   "id": "52e506db",
   "metadata": {},
   "source": [
    "# GUARDAR EL PIPE"
   ]
  },
  {
   "cell_type": "markdown",
   "id": "86a5de63",
   "metadata": {},
   "source": [
    "## Nombre del pipe final de ejecución"
   ]
  },
  {
   "cell_type": "code",
   "execution_count": 26,
   "id": "967c6480",
   "metadata": {},
   "outputs": [],
   "source": [
    "nombre_pipe_ejecucion = 'pipe_ejecucion.pickle'"
   ]
  },
  {
   "cell_type": "markdown",
   "id": "afba8bc8",
   "metadata": {},
   "source": [
    "## Guardar el pipe final de ejecución"
   ]
  },
  {
   "cell_type": "code",
   "execution_count": 27,
   "id": "1dda8f25",
   "metadata": {},
   "outputs": [],
   "source": [
    "ruta_pipe_ejecucion = ruta_proyecto + '/04_Modelos/' + nombre_pipe_ejecucion\n",
    "\n",
    "with open(ruta_pipe_ejecucion, mode='wb') as file:\n",
    "   cloudpickle.dump(pipe_ejecucion, file)"
   ]
  }
 ],
 "metadata": {
  "kernelspec": {
   "display_name": "Python 3 (ipykernel)",
   "language": "python",
   "name": "python3"
  },
  "language_info": {
   "codemirror_mode": {
    "name": "ipython",
    "version": 3
   },
   "file_extension": ".py",
   "mimetype": "text/x-python",
   "name": "python",
   "nbconvert_exporter": "python",
   "pygments_lexer": "ipython3",
   "version": "3.13.2"
  },
  "toc": {
   "base_numbering": 1,
   "nav_menu": {},
   "number_sections": true,
   "sideBar": true,
   "skip_h1_title": false,
   "title_cell": "Table of Contents",
   "title_sidebar": "Contents",
   "toc_cell": false,
   "toc_position": {
    "height": "calc(100% - 180px)",
    "left": "10px",
    "top": "150px",
    "width": "383.367px"
   },
   "toc_section_display": true,
   "toc_window_display": true
  },
  "varInspector": {
   "cols": {
    "lenName": 16,
    "lenType": 16,
    "lenVar": 40
   },
   "kernels_config": {
    "python": {
     "delete_cmd_postfix": "",
     "delete_cmd_prefix": "del ",
     "library": "var_list.py",
     "varRefreshCmd": "print(var_dic_list())"
    },
    "r": {
     "delete_cmd_postfix": ") ",
     "delete_cmd_prefix": "rm(",
     "library": "var_list.r",
     "varRefreshCmd": "cat(var_dic_list()) "
    }
   },
   "types_to_exclude": [
    "module",
    "function",
    "builtin_function_or_method",
    "instance",
    "_Feature"
   ],
   "window_display": false
  }
 },
 "nbformat": 4,
 "nbformat_minor": 5
}
